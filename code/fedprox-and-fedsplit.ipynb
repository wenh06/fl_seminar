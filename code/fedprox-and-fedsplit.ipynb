{
 "cells": [
  {
   "cell_type": "markdown",
   "id": "2b4e56d6",
   "metadata": {},
   "source": [
    "[![Open In Studio Lab](https://studiolab.sagemaker.aws/studiolab.svg)](https://studiolab.sagemaker.aws/import/github/wenh06/fl_seminar/blob/master/code/fedprox-and-fedsplit.ipynb)\n",
    "[![Open In Colab](https://colab.research.google.com/assets/colab-badge.svg)](https://colab.research.google.com/github/wenh06/fl_seminar/blob/master/code/fedprox-and-fedsplit.ipynb)\n",
    "\n",
    "# 问题\n",
    "\n",
    "拟合$y = kx$, $k$为需要拟合的变量，用mean squared error (MSE)做loss\n",
    "\n",
    "device1的点为$(0, 2), (1, 2)$,\n",
    "\n",
    "device2的点为$(2, 0), (2, 1)$,\n",
    "\n",
    "那么device1单独拟合结果为$k = 2$, device2单独拟合结果为$k = \\frac{1}{4}$, 数据都拿一起拟合结果为$k = \\frac{4}{9}$. 注意，这里一起拟合的结果并不等于单独拟合的均值，原因就在于loss function里的k是2次的，不是线性的。"
   ]
  },
  {
   "cell_type": "markdown",
   "id": "cb8139cd",
   "metadata": {},
   "source": [
    "## 先用符号计算一些东西"
   ]
  },
  {
   "cell_type": "code",
   "execution_count": null,
   "id": "a66beac1",
   "metadata": {},
   "outputs": [],
   "source": [
    "import sympy as sp\n",
    "import pytest"
   ]
  },
  {
   "cell_type": "code",
   "execution_count": null,
   "id": "8a334bc1",
   "metadata": {},
   "outputs": [],
   "source": [
    "k,z,s = sp.symbols(\"k,z,s\")"
   ]
  },
  {
   "cell_type": "code",
   "execution_count": null,
   "id": "f1aaae44",
   "metadata": {},
   "outputs": [],
   "source": [
    "func1 = 4 + (k-2)**2\n",
    "func2 = 4 * k**2 + (2*k-1)**2\n",
    "func = func1 + func2\n",
    "\n",
    "grad_f1_ns = sp.diff(func1, k)**2\n",
    "grad_f2_ns = sp.diff(func2, k)**2\n",
    "grad_f_ns = sp.diff(func, k)**2"
   ]
  },
  {
   "cell_type": "code",
   "execution_count": null,
   "id": "6cd6a56d",
   "metadata": {},
   "outputs": [],
   "source": [
    "display(grad_f1_ns), display(grad_f2_ns), display(grad_f_ns);"
   ]
  },
  {
   "cell_type": "code",
   "execution_count": null,
   "id": "860a18e6",
   "metadata": {},
   "outputs": [],
   "source": [
    "B_square = sp.simplify((grad_f1_ns + grad_f2_ns) / 2 / grad_f_ns)\n",
    "B_square"
   ]
  },
  {
   "cell_type": "code",
   "execution_count": null,
   "id": "de279109",
   "metadata": {},
   "outputs": [],
   "source": []
  },
  {
   "cell_type": "markdown",
   "id": "7da48eed",
   "metadata": {},
   "source": [
    "bounded dissimilarity:\n",
    "for some $\\epsilon > 0$, $\\exists B_{\\epsilon}$ s.t. $\\forall w \\in \\{ w ~|~ \\lVert \\nabla f(w) > \\epsilon \\rVert \\}$, $B(w) \\leqslant B$."
   ]
  },
  {
   "cell_type": "code",
   "execution_count": null,
   "id": "947045d5",
   "metadata": {},
   "outputs": [],
   "source": [
    "sp.plot(B_square, ylim=(0, 2))"
   ]
  },
  {
   "cell_type": "code",
   "execution_count": null,
   "id": "a050b577",
   "metadata": {},
   "outputs": [],
   "source": [
    "sp.diff(sp.diff(func1, k), k), sp.diff(sp.diff(func2, k), k)"
   ]
  },
  {
   "cell_type": "code",
   "execution_count": null,
   "id": "095aee43",
   "metadata": {},
   "outputs": [],
   "source": [
    "prox_sf1 = func1 + (k-z)**2 / (2*s)\n",
    "sp.simplify(prox_sf1)"
   ]
  },
  {
   "cell_type": "code",
   "execution_count": null,
   "id": "375022ee",
   "metadata": {},
   "outputs": [],
   "source": [
    "prox_sf2 = func2 + (k-z)**2 / (2*s)\n",
    "prox_sf2"
   ]
  },
  {
   "cell_type": "code",
   "execution_count": null,
   "id": "76a6bf8b",
   "metadata": {},
   "outputs": [],
   "source": [
    "m_sf1 = sp.simplify(prox_sf1.subs(k, (4*s+z) / (2*s+1)))\n",
    "m_sf1"
   ]
  },
  {
   "cell_type": "code",
   "execution_count": null,
   "id": "8e253827",
   "metadata": {},
   "outputs": [],
   "source": [
    "m_sf2 = sp.simplify(prox_sf2.subs(k, (4*s+z) / (16*s+1)))\n",
    "m_sf2"
   ]
  },
  {
   "cell_type": "code",
   "execution_count": null,
   "id": "dbee3487",
   "metadata": {},
   "outputs": [],
   "source": [
    "theo_k = 4 * (9 * s + 1) / (32 * s + 9)\n",
    "theo_k"
   ]
  },
  {
   "cell_type": "code",
   "execution_count": null,
   "id": "0378d174",
   "metadata": {},
   "outputs": [],
   "source": [
    "sp.simplify(sp.diff(m_sf1, z).subs(z, theo_k) + sp.diff(m_sf2, z).subs(z, theo_k))"
   ]
  },
  {
   "cell_type": "code",
   "execution_count": null,
   "id": "6b88146c",
   "metadata": {},
   "outputs": [],
   "source": []
  },
  {
   "cell_type": "markdown",
   "id": "c578cbb1",
   "metadata": {},
   "source": [
    "一些关于FedProx文章中的Theorem 4的观察：\n",
    "\n",
    "1. 在这个例子下，简化起见令$\\gamma = 0$, $B$不能太小，$L_-$近似为0, $L\\geqslant 16$, 只有让$\\mu$比较大，在这里就是$s$比较小（$s = \\dfrac{1}{\\mu}$）的时候，定理里的$\\rho$才会大于0。\n",
    "\n",
    "2. 在$\\lVert \\nabla f \\rVert$的零点附近，如果这个零点没有被$\\mathbb{E}_k[\\lVert \\nabla F_k \\rVert]$cancle掉的话，$B$会急速趋向于无穷，导致在$\\lVert \\nabla f \\rVert$的零点附近，$\\rho > 0$的假设不再成立，那么定理中的不等式就变得无意义了。当device之间分布完全一致的时候（理想情况下），$B$恒为1，就不会有这个问题。这也是FedSplit文章里提到的。"
   ]
  },
  {
   "cell_type": "code",
   "execution_count": null,
   "id": "aa7d2645",
   "metadata": {},
   "outputs": [],
   "source": []
  },
  {
   "cell_type": "markdown",
   "id": "484ea08c",
   "metadata": {},
   "source": [
    "## 数值计算"
   ]
  },
  {
   "cell_type": "code",
   "execution_count": null,
   "id": "06c0fef4",
   "metadata": {},
   "outputs": [],
   "source": [
    "def f1(k):\n",
    "    \"\"\"loss 1\"\"\"\n",
    "    return (k - 2)**2 + 4\n",
    "\n",
    "def f2(k):\n",
    "    \"\"\"loss 2\"\"\"\n",
    "    return 8 * k**2 - 4 * k + 1\n",
    "\n",
    "def prox1(z, s):\n",
    "    if np.isinf(s):\n",
    "        return 2\n",
    "    return (4 * s + z) / (2 * s + 1)\n",
    "\n",
    "def prox2(z, s):\n",
    "    if np.isinf(s):\n",
    "        return 0.25\n",
    "    return (4 * s + z) / (16 * s + 1)"
   ]
  },
  {
   "cell_type": "code",
   "execution_count": null,
   "id": "8cea5278",
   "metadata": {},
   "outputs": [],
   "source": [
    "true_k = 4 / 9"
   ]
  },
  {
   "cell_type": "markdown",
   "id": "81a98ec4",
   "metadata": {},
   "source": [
    "## FedProx"
   ]
  },
  {
   "cell_type": "code",
   "execution_count": null,
   "id": "c483ae85",
   "metadata": {
    "scrolled": true
   },
   "outputs": [],
   "source": [
    "# 初始值\n",
    "k_bar = 0\n",
    "s = 1e-4\n",
    "\n",
    "# k 的理论收敛值，注意，与 s 是相关的\n",
    "theo_k = 4 * (9 * s + 1) / (32 * s + 9)\n",
    "\n",
    "delta = np.inf\n",
    "n_iter = 0\n",
    "\n",
    "k1, k2 = k_bar, k_bar\n",
    "loss1 = (k1-2)**2 + (k1-k_bar)**2 / (2*s)  # loss from 1\n",
    "loss2 = (2*k2 - 1)**2 + (2*k2)**2 + (k2-k_bar)**2 / (2*s)  # loss from 2\n",
    "loss = loss1 + loss2\n",
    "\n",
    "print(f\"init k_bar = {k_bar}, loss = {loss:.8f}\")\n",
    "\n",
    "while n_iter < 1e5 and delta > 1e-9:\n",
    "    k1 = prox1(k_bar, s)\n",
    "    k2 = prox2(k_bar, s)\n",
    "    loss1 = (k1-2)**2 + (k1-k_bar)**2 / (2*s)  # loss from 1\n",
    "    loss2 = (2*k2 - 1)**2 + (2*k2)**2 + (k2-k_bar)**2 / (2*s)  # loss from 2\n",
    "    loss_decrease = loss - (loss1 + loss2)\n",
    "    loss = loss1 + loss2\n",
    "    new_k_bar = 0.5 * (k1 + k2)\n",
    "    delta = abs(k_bar - new_k_bar)\n",
    "    k_bar = new_k_bar\n",
    "    n_iter += 1\n",
    "    print(f\"n_iter = {n_iter}, k_bar = {k_bar:.8f}, loss = {loss:.12f}, loss decrease = {loss_decrease:.12f}\")\n",
    "    print(f\"n_iter = {n_iter}, k1 = {k1:.8f}, loss1 = {loss1:.8f}, k2 = {k2}, loss2 = {loss2:.8f}\")\n",
    "    print(f\"n_iter = {n_iter}, grad_f_ns = {grad_f_ns.subs(k, k_bar)}\")"
   ]
  },
  {
   "cell_type": "markdown",
   "id": "01354d6e",
   "metadata": {},
   "source": [
    "可以看到，总的loss是一直下降的，而且也收敛到了理论值theo_k，只是这个理论值不是整个问题的真实解"
   ]
  },
  {
   "cell_type": "code",
   "execution_count": null,
   "id": "c83429f9",
   "metadata": {},
   "outputs": [],
   "source": [
    "k_bar, theo_k, true_k"
   ]
  },
  {
   "cell_type": "code",
   "execution_count": null,
   "id": "ff6c6497",
   "metadata": {},
   "outputs": [],
   "source": [
    "k_bar == pytest.approx(theo_k, abs=1e-5)"
   ]
  },
  {
   "cell_type": "code",
   "execution_count": null,
   "id": "45e05494",
   "metadata": {},
   "outputs": [],
   "source": []
  },
  {
   "cell_type": "markdown",
   "id": "94ca3d6b",
   "metadata": {},
   "source": [
    "## FedSplit"
   ]
  },
  {
   "cell_type": "code",
   "execution_count": null,
   "id": "599341ac",
   "metadata": {},
   "outputs": [],
   "source": [
    "# 初始值\n",
    "k_bar = 0\n",
    "s = 1e-2\n",
    "\n",
    "z1, z2 = k_bar, k_bar\n",
    "delta = np.inf\n",
    "n_iter = 0\n",
    "\n",
    "while n_iter < 1e5 and delta > 1e-10:\n",
    "    tmp1 = prox1(2 * k_bar - z1, s)\n",
    "    tmp2 = prox2(2 * k_bar - z2, s)\n",
    "    z1 = z1 + 2 * (tmp1 - k_bar)\n",
    "    z2 = z2 + 2 * (tmp2 - k_bar)\n",
    "    new_k_bar = 0.5 * (z1 + z2)\n",
    "    delta = abs(k_bar - new_k_bar)\n",
    "    k_bar = new_k_bar\n",
    "    n_iter += 1\n",
    "    print(f\"n_iter = {n_iter}, k_bar = {k_bar:.16f}\")"
   ]
  },
  {
   "cell_type": "code",
   "execution_count": null,
   "id": "f8be5d33",
   "metadata": {},
   "outputs": [],
   "source": [
    "k_bar, true_k"
   ]
  },
  {
   "cell_type": "code",
   "execution_count": null,
   "id": "97ab76f8",
   "metadata": {},
   "outputs": [],
   "source": [
    "k_bar == pytest.approx(true_k, abs=1e-5)"
   ]
  },
  {
   "cell_type": "code",
   "execution_count": null,
   "id": "4363541a",
   "metadata": {},
   "outputs": [],
   "source": []
  }
 ],
 "metadata": {
  "kernelspec": {
   "display_name": "Python 3",
   "language": "python",
   "name": "python3"
  },
  "language_info": {
   "codemirror_mode": {
    "name": "ipython",
    "version": 3
   },
   "file_extension": ".py",
   "mimetype": "text/x-python",
   "name": "python",
   "nbconvert_exporter": "python",
   "pygments_lexer": "ipython3",
   "version": "3.6.9"
  }
 },
 "nbformat": 4,
 "nbformat_minor": 5
}
