{
 "cells": [
  {
   "cell_type": "markdown",
   "id": "2b4e56d6",
   "metadata": {},
   "source": [
    "[![Open In Studio Lab](https://studiolab.sagemaker.aws/studiolab.svg)](https://studiolab.sagemaker.aws/import/github/wenh06/fl_seminar/blob/master/code/fedprox-and-fedsplit.ipynb)\n",
    "[![Open In Colab](https://colab.research.google.com/assets/colab-badge.svg)](https://colab.research.google.com/github/wenh06/fl_seminar/blob/master/code/fedprox-and-fedsplit.ipynb)\n",
    "\n",
    "# 问题\n",
    "\n",
    "拟合$y = kx$, $k$为需要拟合的变量，用mean squared error (MSE)做loss\n",
    "\n",
    "device1的点为$(0, 2), (1, 2)$,\n",
    "\n",
    "device2的点为$(2, 0), (2, 1)$,\n",
    "\n",
    "那么device1单独拟合结果为$k = 2$, device2单独拟合结果为$k = \\frac{1}{4}$, 数据都拿一起拟合结果为$k = \\frac{4}{9}$. 注意，这里一起拟合的结果并不等于单独拟合的均值，原因就在于loss function里的k是2次的，不是线性的。"
   ]
  },
  {
   "cell_type": "code",
   "execution_count": null,
   "id": "06c0fef4",
   "metadata": {},
   "outputs": [],
   "source": [
    "def prox1(k, s):\n",
    "    if np.isinf(s):\n",
    "        return 2\n",
    "    return (4 * s + k) / (2 * s + 1)\n",
    "\n",
    "def prox2(k, s):\n",
    "    if np.isinf(s):\n",
    "        return 0.25\n",
    "    return (4 * s + k) / (16 * s + 1)"
   ]
  },
  {
   "cell_type": "code",
   "execution_count": null,
   "id": "8cea5278",
   "metadata": {},
   "outputs": [],
   "source": [
    "true_k = 4 / 9"
   ]
  },
  {
   "cell_type": "markdown",
   "id": "81a98ec4",
   "metadata": {},
   "source": [
    "## FedProx"
   ]
  },
  {
   "cell_type": "code",
   "execution_count": null,
   "id": "c483ae85",
   "metadata": {
    "scrolled": true
   },
   "outputs": [],
   "source": [
    "# 初始值\n",
    "k_bar = 0\n",
    "s = 1e-2\n",
    "\n",
    "# k 的理论收敛值，注意，与 s 是相关的\n",
    "theo_k = 4 * (9 * s + 1) / (32 * s + 9)\n",
    "\n",
    "delta = np.inf\n",
    "n_iter = 0\n",
    "\n",
    "k1, k2 = k_bar, k_bar\n",
    "loss1 = (k1-2)**2 + (k1-k_bar)**2 / (2*s)  # loss from 1\n",
    "loss2 = (2*k2 - 1)**2 + (2*k2)**2 + (k2-k_bar)**2 / (2*s)  # loss from 2\n",
    "loss = loss1 + loss2\n",
    "\n",
    "print(f\"init k_bar = {k_bar}, loss = {loss:.8f}\")\n",
    "\n",
    "while n_iter < 1e5 and delta > 1e-9:\n",
    "    k1 = prox1(k_bar, s)\n",
    "    k2 = prox2(k_bar, s)\n",
    "    loss1 = (k1-2)**2 + (k1-k_bar)**2 / (2*s)  # loss from 1\n",
    "    loss2 = (2*k2 - 1)**2 + (2*k2)**2 + (k2-k_bar)**2 / (2*s)  # loss from 2\n",
    "    loss_decrease = loss - (loss1 + loss2)\n",
    "    loss = loss1 + loss2\n",
    "    new_k_bar = 0.5 * (k1 + k2)\n",
    "    delta = abs(k_bar - new_k_bar)\n",
    "    k_bar = new_k_bar\n",
    "    n_iter += 1\n",
    "    print(f\"n_iter = {n_iter}, k_bar = {k_bar:.8f}, loss = {loss:.12f}, loss decrease = {loss_decrease:.12f}\")\n",
    "    print(f\"n_iter = {n_iter}, k1 = {k1:.8f}, loss1 = {loss1:.8f}, k2 = {k2}, loss2 = {loss2:.8f}\")"
   ]
  },
  {
   "cell_type": "markdown",
   "id": "01354d6e",
   "metadata": {},
   "source": [
    "可以看到，总的loss是一直下降的，而且也收敛到了理论值theo_k，只是这个理论值不是整个问题的真实解"
   ]
  },
  {
   "cell_type": "code",
   "execution_count": null,
   "id": "c83429f9",
   "metadata": {},
   "outputs": [],
   "source": [
    "k_bar, theo_k, true_k"
   ]
  },
  {
   "cell_type": "markdown",
   "id": "94ca3d6b",
   "metadata": {},
   "source": [
    "## FedSplit"
   ]
  },
  {
   "cell_type": "code",
   "execution_count": null,
   "id": "599341ac",
   "metadata": {},
   "outputs": [],
   "source": [
    "# 初始值\n",
    "k_bar = 0\n",
    "s = 1e-2\n",
    "\n",
    "z1, z2 = k_bar, k_bar\n",
    "delta = np.inf\n",
    "n_iter = 0\n",
    "\n",
    "while n_iter < 1e5 and delta > 1e-9:\n",
    "    tmp1 = prox1(2 * k_bar - z1, s)\n",
    "    tmp2 = prox2(2 * k_bar - z2, s)\n",
    "    z1 = z1 + 2 * (tmp1 - k_bar)\n",
    "    z2 = z2 + 2 * (tmp2 - k_bar)\n",
    "    new_k_bar = 0.5 * (z1 + z2)\n",
    "    delta = abs(k_bar - new_k_bar)\n",
    "    k_bar = new_k_bar\n",
    "    n_iter += 1\n",
    "    print(f\"n_iter = {n_iter}, k_bar = {k_bar:.8f}\")"
   ]
  },
  {
   "cell_type": "code",
   "execution_count": null,
   "id": "f8be5d33",
   "metadata": {},
   "outputs": [],
   "source": [
    "k_bar, true_k"
   ]
  },
  {
   "cell_type": "code",
   "execution_count": null,
   "id": "8e253827",
   "metadata": {},
   "outputs": [],
   "source": []
  }
 ],
 "metadata": {
  "kernelspec": {
   "display_name": "Python 3",
   "language": "python",
   "name": "python3"
  },
  "language_info": {
   "codemirror_mode": {
    "name": "ipython",
    "version": 3
   },
   "file_extension": ".py",
   "mimetype": "text/x-python",
   "name": "python",
   "nbconvert_exporter": "python",
   "pygments_lexer": "ipython3",
   "version": "3.6.9"
  }
 },
 "nbformat": 4,
 "nbformat_minor": 5
}
